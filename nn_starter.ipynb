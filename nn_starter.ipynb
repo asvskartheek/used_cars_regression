{
 "cells": [
  {
   "cell_type": "code",
   "execution_count": 12,
   "metadata": {},
   "outputs": [],
   "source": [
    "VERSION = 1"
   ]
  },
  {
   "cell_type": "code",
   "execution_count": 1,
   "metadata": {},
   "outputs": [
    {
     "name": "stdout",
     "output_type": "stream",
     "text": [
      "Train shape: (188533, 13)\n"
     ]
    },
    {
     "data": {
      "text/html": [
       "<div>\n",
       "<style scoped>\n",
       "    .dataframe tbody tr th:only-of-type {\n",
       "        vertical-align: middle;\n",
       "    }\n",
       "\n",
       "    .dataframe tbody tr th {\n",
       "        vertical-align: top;\n",
       "    }\n",
       "\n",
       "    .dataframe thead th {\n",
       "        text-align: right;\n",
       "    }\n",
       "</style>\n",
       "<table border=\"1\" class=\"dataframe\">\n",
       "  <thead>\n",
       "    <tr style=\"text-align: right;\">\n",
       "      <th></th>\n",
       "      <th>id</th>\n",
       "      <th>brand</th>\n",
       "      <th>model</th>\n",
       "      <th>model_year</th>\n",
       "      <th>milage</th>\n",
       "      <th>fuel_type</th>\n",
       "      <th>engine</th>\n",
       "      <th>transmission</th>\n",
       "      <th>ext_col</th>\n",
       "      <th>int_col</th>\n",
       "      <th>accident</th>\n",
       "      <th>clean_title</th>\n",
       "      <th>price</th>\n",
       "    </tr>\n",
       "  </thead>\n",
       "  <tbody>\n",
       "    <tr>\n",
       "      <th>0</th>\n",
       "      <td>0</td>\n",
       "      <td>MINI</td>\n",
       "      <td>Cooper S Base</td>\n",
       "      <td>2007</td>\n",
       "      <td>213000</td>\n",
       "      <td>Gasoline</td>\n",
       "      <td>172.0HP 1.6L 4 Cylinder Engine Gasoline Fuel</td>\n",
       "      <td>A/T</td>\n",
       "      <td>Yellow</td>\n",
       "      <td>Gray</td>\n",
       "      <td>None reported</td>\n",
       "      <td>Yes</td>\n",
       "      <td>4200</td>\n",
       "    </tr>\n",
       "  </tbody>\n",
       "</table>\n",
       "</div>"
      ],
      "text/plain": [
       "   id brand          model  model_year  milage fuel_type  \\\n",
       "0   0  MINI  Cooper S Base        2007  213000  Gasoline   \n",
       "\n",
       "                                         engine transmission ext_col int_col  \\\n",
       "0  172.0HP 1.6L 4 Cylinder Engine Gasoline Fuel          A/T  Yellow    Gray   \n",
       "\n",
       "        accident clean_title  price  \n",
       "0  None reported         Yes   4200  "
      ]
     },
     "metadata": {},
     "output_type": "display_data"
    },
    {
     "name": "stdout",
     "output_type": "stream",
     "text": [
      "Test shape: (125690, 13)\n"
     ]
    },
    {
     "data": {
      "text/html": [
       "<div>\n",
       "<style scoped>\n",
       "    .dataframe tbody tr th:only-of-type {\n",
       "        vertical-align: middle;\n",
       "    }\n",
       "\n",
       "    .dataframe tbody tr th {\n",
       "        vertical-align: top;\n",
       "    }\n",
       "\n",
       "    .dataframe thead th {\n",
       "        text-align: right;\n",
       "    }\n",
       "</style>\n",
       "<table border=\"1\" class=\"dataframe\">\n",
       "  <thead>\n",
       "    <tr style=\"text-align: right;\">\n",
       "      <th></th>\n",
       "      <th>id</th>\n",
       "      <th>brand</th>\n",
       "      <th>model</th>\n",
       "      <th>model_year</th>\n",
       "      <th>milage</th>\n",
       "      <th>fuel_type</th>\n",
       "      <th>engine</th>\n",
       "      <th>transmission</th>\n",
       "      <th>ext_col</th>\n",
       "      <th>int_col</th>\n",
       "      <th>accident</th>\n",
       "      <th>clean_title</th>\n",
       "      <th>price</th>\n",
       "    </tr>\n",
       "  </thead>\n",
       "  <tbody>\n",
       "    <tr>\n",
       "      <th>0</th>\n",
       "      <td>188533</td>\n",
       "      <td>Land</td>\n",
       "      <td>Rover LR2 Base</td>\n",
       "      <td>2015</td>\n",
       "      <td>98000</td>\n",
       "      <td>Gasoline</td>\n",
       "      <td>240.0HP 2.0L 4 Cylinder Engine Gasoline Fuel</td>\n",
       "      <td>6-Speed A/T</td>\n",
       "      <td>White</td>\n",
       "      <td>Beige</td>\n",
       "      <td>None reported</td>\n",
       "      <td>Yes</td>\n",
       "      <td>0</td>\n",
       "    </tr>\n",
       "  </tbody>\n",
       "</table>\n",
       "</div>"
      ],
      "text/plain": [
       "       id brand           model  model_year  milage fuel_type  \\\n",
       "0  188533  Land  Rover LR2 Base        2015   98000  Gasoline   \n",
       "\n",
       "                                         engine transmission ext_col int_col  \\\n",
       "0  240.0HP 2.0L 4 Cylinder Engine Gasoline Fuel  6-Speed A/T   White   Beige   \n",
       "\n",
       "        accident clean_title  price  \n",
       "0  None reported         Yes      0  "
      ]
     },
     "metadata": {},
     "output_type": "display_data"
    },
    {
     "name": "stdout",
     "output_type": "stream",
     "text": [
      "Combined shape: (314223, 13)\n"
     ]
    }
   ],
   "source": [
    "import pandas as pd, numpy as np\n",
    "import matplotlib.pyplot as plt\n",
    "\n",
    "train = pd.read_csv(\"data/train.csv\") \n",
    "print(\"Train shape:\", train.shape )\n",
    "TRAIN_LN = len(train)\n",
    "display( train.head(1) )\n",
    "\n",
    "test = pd.read_csv(\"data/test.csv\") \n",
    "test['price'] = 0 # Doing this for common pre-processing steps.\n",
    "print(\"Test shape:\", test.shape )\n",
    "display( test.head(1) )\n",
    "\n",
    "train = pd.concat([train,test],axis=0,ignore_index=True)\n",
    "print(\"Combined shape:\", train.shape )"
   ]
  },
  {
   "cell_type": "code",
   "execution_count": 2,
   "metadata": {},
   "outputs": [
    {
     "name": "stdout",
     "output_type": "stream",
     "text": [
      "Categorical features: ['brand', 'model', 'model_year', 'fuel_type', 'engine', 'transmission', 'ext_col', 'int_col', 'accident', 'clean_title']\n",
      "Numerical features: ['milage']\n"
     ]
    }
   ],
   "source": [
    "CATS = [c for c in train.columns if not c in [\"id\",\"price\"] ]\n",
    "NUMS = ['milage']\n",
    "CATS = [c for c in CATS if not c in NUMS]\n",
    "print(\"Categorical features:\", CATS )\n",
    "print(\"Numerical features:\", NUMS)"
   ]
  },
  {
   "cell_type": "code",
   "execution_count": 3,
   "metadata": {},
   "outputs": [
    {
     "name": "stdout",
     "output_type": "stream",
     "text": [
      "STANDARDIZING NUMERICAL FEATURES\n",
      "milage, new_mean=-0.00, new_std=1.00\n"
     ]
    }
   ],
   "source": [
    "print(\"STANDARDIZING NUMERICAL FEATURES\")\n",
    "for c in NUMS:\n",
    "    m = train[c].mean()\n",
    "    s = train[c].std()\n",
    "    train[c] = (train[c]-m)/s\n",
    "    train[c] = train[c].fillna(m)\n",
    "    print(f\"{c}, new_mean={train[c].mean():.2f}, new_std={train[c].std():.2f}\")"
   ]
  },
  {
   "cell_type": "code",
   "execution_count": 4,
   "metadata": {},
   "outputs": [
    {
     "name": "stdout",
     "output_type": "stream",
     "text": [
      "Label Encoding Categorical Features:\n",
      "brand: unique=57, min_freq=0, max_freq=56, rare_count=8\n",
      "model: unique=1898, min_freq=0, max_freq=1897, rare_count=551\n",
      "model_year: unique=36, min_freq=0, max_freq=35, rare_count=4\n",
      "fuel_type: unique=8, min_freq=0, max_freq=7, rare_count=1\n",
      "engine: unique=1118, min_freq=0, max_freq=1117, rare_count=308\n",
      "transmission: unique=52, min_freq=0, max_freq=51, rare_count=8\n",
      "ext_col: unique=319, min_freq=0, max_freq=318, rare_count=99\n",
      "int_col: unique=156, min_freq=0, max_freq=155, rare_count=48\n",
      "accident: unique=3, min_freq=0, max_freq=2, rare_count=0\n",
      "clean_title: unique=2, min_freq=0, max_freq=1, rare_count=0\n"
     ]
    }
   ],
   "source": [
    "cat_feature_sizes = []\n",
    "cat_embedding_sizes = []\n",
    "rare_cat_lists = []\n",
    "MIN_CATEGORY_COUNT = 40\n",
    "\n",
    "print(\"Label Encoding Categorical Features:\")\n",
    "for cat_feature in CATS:\n",
    "    train[cat_feature], _ = train[cat_feature].factorize()\n",
    "    train[cat_feature] -= train[cat_feature].min() # We are doing this to ensure that the encoded values start from 0, ensuring a consistent range for all categorical features.\n",
    "    value_counts = train[cat_feature].value_counts().to_dict()\n",
    "    \n",
    "    # Identify rare categories\n",
    "    rare_cat_lists.append([\n",
    "        value\n",
    "        for value, count in value_counts.items()\n",
    "        if count < MIN_CATEGORY_COUNT\n",
    "    ])\n",
    "    unique_count = train[cat_feature].nunique()\n",
    "    min_freq = train[cat_feature].min()\n",
    "    max_freq = train[cat_feature].max()\n",
    "    rare_count = len(rare_cat_lists[-1])\n",
    "    print(f'{cat_feature}: unique={unique_count}, min_freq={min_freq}, max_freq={max_freq}, rare_count={rare_count}')\n",
    "    \n",
    "    # Adjust category encoding\n",
    "    cat_feature_sizes.append(max_freq + 2)  # +2 for rare category (0) and zero-indexing (1 to max_freq+1). This ensures we have enough space for all categories, including the rare ones grouped together.\n",
    "    cat_embedding_sizes.append(int(np.ceil(np.sqrt(max_freq + 2)))) # TODO: Find a reference for this formula. Got this snippet from https://www.kaggle.com/code/cdeotte/nn-starter-lb-72300-cv-72800\n",
    "    train[cat_feature] += 1\n",
    "    train.loc[train[cat_feature].isin(rare_cat_lists[-1]), cat_feature] = 0 # rare_cat_lists[-1] gives the list of rare categories for the current feature"
   ]
  },
  {
   "cell_type": "code",
   "execution_count": 5,
   "metadata": {},
   "outputs": [
    {
     "data": {
      "text/plain": [
       "((188533, 13), (125690, 13))"
      ]
     },
     "execution_count": 5,
     "metadata": {},
     "output_type": "execute_result"
    }
   ],
   "source": [
    "test = train.iloc[TRAIN_LN:]\n",
    "train = train.iloc[:TRAIN_LN]\n",
    "train.shape, test.shape"
   ]
  },
  {
   "cell_type": "code",
   "execution_count": 6,
   "metadata": {},
   "outputs": [
    {
     "name": "stdout",
     "output_type": "stream",
     "text": [
      "brand: Test has label encodes = [] which are not in train.\n",
      "model: Test has label encodes = [1898] which are not in train.\n",
      " => 1 rows\n",
      "model_year: Test has label encodes = [36] which are not in train.\n",
      " => 1 rows\n",
      "fuel_type: Test has label encodes = [] which are not in train.\n",
      "engine: Test has label encodes = [1118] which are not in train.\n",
      " => 4 rows\n",
      "transmission: Test has label encodes = [] which are not in train.\n",
      "ext_col: Test has label encodes = [] which are not in train.\n",
      "int_col: Test has label encodes = [] which are not in train.\n",
      "accident: Test has label encodes = [] which are not in train.\n",
      "clean_title: Test has label encodes = [] which are not in train.\n"
     ]
    }
   ],
   "source": [
    "for feature in CATS:\n",
    "    train_categories = train[feature].unique()\n",
    "    test_categories = test[feature].unique()\n",
    "    unseen_categories = np.setdiff1d(test_categories, train_categories)\n",
    "    print(f\"{feature}: Test has label encodes = {unseen_categories} which are not in train.\")\n",
    "    if len(unseen_categories) > 0:\n",
    "        unseen_rows_count = len(test.loc[test[feature].isin(unseen_categories)])\n",
    "        print(f\" => {unseen_rows_count} rows\")\n",
    "    \n",
    "    test.loc[test[feature].isin(unseen_categories), feature] = 0"
   ]
  },
  {
   "cell_type": "code",
   "execution_count": 7,
   "metadata": {},
   "outputs": [
    {
     "name": "stdout",
     "output_type": "stream",
     "text": [
      "TF Version 2.16.1\n"
     ]
    }
   ],
   "source": [
    "from sklearn.model_selection import KFold\n",
    "import tensorflow as tf\n",
    "from tensorflow.keras.models import Model\n",
    "from tensorflow.keras.layers import Dense, Dropout, Input, Embedding\n",
    "from tensorflow.keras.layers import Concatenate, Multiply\n",
    "import tensorflow.keras.backend as K\n",
    "\n",
    "print('TF Version',tf.__version__)"
   ]
  },
  {
   "cell_type": "code",
   "execution_count": 8,
   "metadata": {},
   "outputs": [
    {
     "name": "stdout",
     "output_type": "stream",
     "text": [
      "Learning rate schedule: 0.001 to 0.001 to 0.0001\n"
     ]
    },
    {
     "data": {
      "image/png": "[encoded data removed]",
      "text/plain": [
       "<Figure size 1000x400 with 1 Axes>"
      ]
     },
     "metadata": {},
     "output_type": "display_data"
    }
   ],
   "source": [
    "EPOCHS = 3\n",
    "LRS = [0.001]*2 + [0.0001]*1\n",
    "\n",
    "def lrfn(epoch):\n",
    "    return LRS[epoch]\n",
    "\n",
    "rng = [i for i in range(EPOCHS)]\n",
    "lr_y = [lrfn(x) for x in rng]\n",
    "plt.figure(figsize=(10, 4))\n",
    "plt.plot(rng, lr_y, '-o')\n",
    "print(\"Learning rate schedule: {:.3g} to {:.3g} to {:.3g}\". \\\n",
    "        format(lr_y[0], max(lr_y), lr_y[-1]))\n",
    "plt.xlabel(\"Epoch\")\n",
    "plt.ylabel(\"Learning Rate\")\n",
    "plt.title(\"Learning Rate Schedule\")\n",
    "plt.show()\n",
    "\n",
    "lr_callback = tf.keras.callbacks.LearningRateScheduler(lrfn, verbose = True)"
   ]
  },
  {
   "cell_type": "code",
   "execution_count": 9,
   "metadata": {},
   "outputs": [],
   "source": [
    "def build_model():\n",
    "    # CATEGORICAL FEATURES\n",
    "    x_input_cats = Input(shape=(len(CATS),))\n",
    "    embs = []\n",
    "    for j in range(len(CATS)):\n",
    "        e = tf.keras.layers.Embedding(cat_feature_sizes[j],cat_embedding_sizes[j])\n",
    "        x = e(x_input_cats[:,j])\n",
    "        x = tf.keras.layers.Flatten()(x)\n",
    "        embs.append(x)\n",
    "        \n",
    "    # NUMERICAL FEATURES\n",
    "    x_input_nums = Input(shape=(len(NUMS),))\n",
    "    \n",
    "    # COMBINE\n",
    "    x = tf.keras.layers.Concatenate(axis=-1)(embs+[x_input_nums]) \n",
    "    x = Dense(256, activation='relu')(x)\n",
    "    x = Dense(256, activation='relu')(x)\n",
    "    x = Dense(256, activation='relu')(x)\n",
    "    x = Dense(1, activation='linear')(x)\n",
    "    \n",
    "    model = Model(inputs=[x_input_cats,x_input_nums], outputs=x)\n",
    "    \n",
    "    return model"
   ]
  },
  {
   "cell_type": "code",
   "execution_count": 15,
   "metadata": {},
   "outputs": [
    {
     "name": "stdout",
     "output_type": "stream",
     "text": [
      "#########################\n",
      "### Fold 1 ###\n",
      "#########################\n",
      "\n",
      "Epoch 1: LearningRateScheduler setting learning rate to 0.001.\n",
      "Epoch 1/3\n",
      "2357/2357 - 6s - 3ms/step - loss: 5683740672.0000 - root_mean_squared_error: 75390.5859 - val_loss: 4661839872.0000 - val_root_mean_squared_error: 68277.6641 - learning_rate: 0.0010\n",
      "\n",
      "Epoch 2: LearningRateScheduler setting learning rate to 0.001.\n",
      "Epoch 2/3\n",
      "2357/2357 - 5s - 2ms/step - loss: 5445754368.0000 - root_mean_squared_error: 73795.3516 - val_loss: 4644496384.0000 - val_root_mean_squared_error: 68150.5391 - learning_rate: 0.0010\n",
      "\n",
      "Epoch 3: LearningRateScheduler setting learning rate to 0.0001.\n",
      "Epoch 3/3\n",
      "2357/2357 - 4s - 2ms/step - loss: 5375627776.0000 - root_mean_squared_error: 73318.6719 - val_loss: 4626635264.0000 - val_root_mean_squared_error: 68019.3750 - learning_rate: 1.0000e-04\n",
      "\u001b[1m74/74\u001b[0m \u001b[32m━━━━━━━━━━━━━━━━━━━━\u001b[0m\u001b[37m\u001b[0m \u001b[1m0s\u001b[0m 2ms/step\n",
      " => RMSE = 68019.36699092557\n",
      "\n",
      "\u001b[1m246/246\u001b[0m \u001b[32m━━━━━━━━━━━━━━━━━━━━\u001b[0m\u001b[37m\u001b[0m \u001b[1m0s\u001b[0m 1ms/step\n",
      "#########################\n",
      "### Fold 2 ###\n",
      "#########################\n",
      "\n",
      "Epoch 1: LearningRateScheduler setting learning rate to 0.001.\n",
      "Epoch 1/3\n",
      "2357/2357 - 6s - 2ms/step - loss: 5633757696.0000 - root_mean_squared_error: 75058.3594 - val_loss: 4753966592.0000 - val_root_mean_squared_error: 68949.0156 - learning_rate: 0.0010\n",
      "\n",
      "Epoch 2: LearningRateScheduler setting learning rate to 0.001.\n",
      "Epoch 2/3\n",
      "2357/2357 - 5s - 2ms/step - loss: 5416275968.0000 - root_mean_squared_error: 73595.3516 - val_loss: 4726757376.0000 - val_root_mean_squared_error: 68751.4141 - learning_rate: 0.0010\n",
      "\n",
      "Epoch 3: LearningRateScheduler setting learning rate to 0.0001.\n",
      "Epoch 3/3\n",
      "2357/2357 - 5s - 2ms/step - loss: 5339220992.0000 - root_mean_squared_error: 73069.9766 - val_loss: 4730093568.0000 - val_root_mean_squared_error: 68775.6719 - learning_rate: 1.0000e-04\n",
      "\u001b[1m74/74\u001b[0m \u001b[32m━━━━━━━━━━━━━━━━━━━━\u001b[0m\u001b[37m\u001b[0m \u001b[1m0s\u001b[0m 3ms/step\n",
      " => RMSE = 68775.67871718088\n",
      "\n",
      "\u001b[1m246/246\u001b[0m \u001b[32m━━━━━━━━━━━━━━━━━━━━\u001b[0m\u001b[37m\u001b[0m \u001b[1m0s\u001b[0m 1ms/step\n",
      "#########################\n",
      "### Fold 3 ###\n",
      "#########################\n",
      "\n",
      "Epoch 1: LearningRateScheduler setting learning rate to 0.001.\n",
      "Epoch 1/3\n",
      "2357/2357 - 6s - 3ms/step - loss: 5457167872.0000 - root_mean_squared_error: 73872.6484 - val_loss: 5476747264.0000 - val_root_mean_squared_error: 74005.0469 - learning_rate: 0.0010\n",
      "\n",
      "Epoch 2: LearningRateScheduler setting learning rate to 0.001.\n",
      "Epoch 2/3\n",
      "2357/2357 - 5s - 2ms/step - loss: 5233385472.0000 - root_mean_squared_error: 72342.1406 - val_loss: 5472279552.0000 - val_root_mean_squared_error: 73974.8594 - learning_rate: 0.0010\n",
      "\n",
      "Epoch 3: LearningRateScheduler setting learning rate to 0.0001.\n",
      "Epoch 3/3\n",
      "2357/2357 - 5s - 2ms/step - loss: 5164577792.0000 - root_mean_squared_error: 71865.0000 - val_loss: 5481543680.0000 - val_root_mean_squared_error: 74037.4453 - learning_rate: 1.0000e-04\n",
      "\u001b[1m74/74\u001b[0m \u001b[32m━━━━━━━━━━━━━━━━━━━━\u001b[0m\u001b[37m\u001b[0m \u001b[1m0s\u001b[0m 2ms/step\n",
      " => RMSE = 74037.44745633769\n",
      "\n",
      "\u001b[1m246/246\u001b[0m \u001b[32m━━━━━━━━━━━━━━━━━━━━\u001b[0m\u001b[37m\u001b[0m \u001b[1m0s\u001b[0m 1ms/step\n",
      "#########################\n",
      "### Fold 4 ###\n",
      "#########################\n",
      "\n",
      "Epoch 1: LearningRateScheduler setting learning rate to 0.001.\n",
      "Epoch 1/3\n",
      "2357/2357 - 5s - 2ms/step - loss: 5368496640.0000 - root_mean_squared_error: 73270.0234 - val_loss: 5895365120.0000 - val_root_mean_squared_error: 76781.2812 - learning_rate: 0.0010\n",
      "\n",
      "Epoch 2: LearningRateScheduler setting learning rate to 0.001.\n",
      "Epoch 2/3\n",
      "2357/2357 - 4s - 2ms/step - loss: 5141968384.0000 - root_mean_squared_error: 71707.5234 - val_loss: 5859101696.0000 - val_root_mean_squared_error: 76544.7656 - learning_rate: 0.0010\n",
      "\n",
      "Epoch 3: LearningRateScheduler setting learning rate to 0.0001.\n",
      "Epoch 3/3\n",
      "2357/2357 - 4s - 2ms/step - loss: 5071699456.0000 - root_mean_squared_error: 71215.8672 - val_loss: 5857365504.0000 - val_root_mean_squared_error: 76533.4297 - learning_rate: 1.0000e-04\n",
      "\u001b[1m74/74\u001b[0m \u001b[32m━━━━━━━━━━━━━━━━━━━━\u001b[0m\u001b[37m\u001b[0m \u001b[1m0s\u001b[0m 2ms/step\n",
      " => RMSE = 76533.41906970345\n",
      "\n",
      "\u001b[1m246/246\u001b[0m \u001b[32m━━━━━━━━━━━━━━━━━━━━\u001b[0m\u001b[37m\u001b[0m \u001b[1m0s\u001b[0m 1ms/step\n",
      "#########################\n",
      "### Fold 5 ###\n",
      "#########################\n",
      "\n",
      "Epoch 1: LearningRateScheduler setting learning rate to 0.001.\n",
      "Epoch 1/3\n",
      "2357/2357 - 6s - 3ms/step - loss: 5359912960.0000 - root_mean_squared_error: 73211.4219 - val_loss: 5837603840.0000 - val_root_mean_squared_error: 76404.2109 - learning_rate: 0.0010\n",
      "\n",
      "Epoch 2: LearningRateScheduler setting learning rate to 0.001.\n",
      "Epoch 2/3\n",
      "2357/2357 - 5s - 2ms/step - loss: 5148767232.0000 - root_mean_squared_error: 71754.9141 - val_loss: 5822317568.0000 - val_root_mean_squared_error: 76304.1094 - learning_rate: 0.0010\n",
      "\n",
      "Epoch 3: LearningRateScheduler setting learning rate to 0.0001.\n",
      "Epoch 3/3\n",
      "2357/2357 - 5s - 2ms/step - loss: 5074620416.0000 - root_mean_squared_error: 71236.3672 - val_loss: 5813164032.0000 - val_root_mean_squared_error: 76244.1094 - learning_rate: 1.0000e-04\n",
      "\u001b[1m74/74\u001b[0m \u001b[32m━━━━━━━━━━━━━━━━━━━━\u001b[0m\u001b[37m\u001b[0m \u001b[1m0s\u001b[0m 2ms/step\n",
      " => RMSE = 76244.08720819162\n",
      "\n",
      "\u001b[1m246/246\u001b[0m \u001b[32m━━━━━━━━━━━━━━━━━━━━\u001b[0m\u001b[37m\u001b[0m \u001b[1m0s\u001b[0m 1ms/step\n"
     ]
    }
   ],
   "source": [
    "import os\n",
    "\n",
    "NUM_FOLDS = 5\n",
    "RANDOM_STATE = 42\n",
    "MODEL_CHECKPOINT_DIR = f\"checkpoints/\"\n",
    "MODEL_CHECKPOINT_FILE = f\"NN_{VERSION}.weights.h5\"\n",
    "TENSOREBOARD_LOG_DIR = f\"tensorboard_logs/version_{VERSION}\"\n",
    "\n",
    "kf = KFold(n_splits=NUM_FOLDS, random_state=RANDOM_STATE, shuffle=True)\n",
    "\n",
    "out_of_fold_predictions = np.zeros(len(train))\n",
    "test_predictions = np.zeros(len(test))\n",
    "\n",
    "# Create directory for model checkpoints\n",
    "if not os.path.exists(MODEL_CHECKPOINT_DIR):\n",
    "    os.makedirs(MODEL_CHECKPOINT_DIR)\n",
    "\n",
    "# Create directory for TensorBoard logs\n",
    "if not os.path.exists(TENSOREBOARD_LOG_DIR):\n",
    "    os.makedirs(TENSOREBOARD_LOG_DIR)\n",
    "\n",
    "for fold, (train_index, val_index) in enumerate(kf.split(train), 1):\n",
    "    print(\"#\" * 25)\n",
    "    print(f\"### Fold {fold} ###\")\n",
    "    print(\"#\" * 25)\n",
    "\n",
    "    # Prepare data for current fold\n",
    "    X_train_cats = train.loc[train_index, CATS].values\n",
    "    X_train_nums = train.loc[train_index, NUMS].values\n",
    "    y_train = train.loc[train_index, \"price\"].values\n",
    "    \n",
    "    X_val_cats = train.loc[val_index, CATS].values\n",
    "    X_val_nums = train.loc[val_index, NUMS].values\n",
    "    y_val = train.loc[val_index, \"price\"].values\n",
    "    \n",
    "    X_test_cats = test[CATS].values\n",
    "    X_test_nums = test[NUMS].values\n",
    "    \n",
    "    # Train model\n",
    "    K.clear_session()\n",
    "    model = build_model()\n",
    "    model.compile(optimizer=tf.keras.optimizers.Adam(0.001), \n",
    "                  loss=\"mean_squared_error\", \n",
    "                  metrics=[tf.keras.metrics.RootMeanSquaredError()])\n",
    "    \n",
    "    # Create TensorBoard callback\n",
    "    tensorboard_callback = tf.keras.callbacks.TensorBoard(\n",
    "        log_dir=f\"{TENSOREBOARD_LOG_DIR}/fold_{fold}\",\n",
    "        histogram_freq=1,\n",
    "        write_graph=True,\n",
    "        write_images=True,\n",
    "        update_freq='epoch',\n",
    "        profile_batch=0\n",
    "    )\n",
    "    \n",
    "    model.fit([X_train_cats, X_train_nums], y_train, \n",
    "              validation_data=([X_val_cats, X_val_nums], y_val),\n",
    "              callbacks=[lr_callback, tensorboard_callback],\n",
    "              batch_size=64, epochs=EPOCHS, verbose=2)\n",
    "    \n",
    "    # Save model weights\n",
    "    model.save_weights(f'{MODEL_CHECKPOINT_DIR}/{MODEL_CHECKPOINT_FILE}')\n",
    "    \n",
    "    # Make predictions on validation set\n",
    "    val_predictions = model.predict([X_val_cats, X_val_nums], verbose=1, batch_size=512).flatten()\n",
    "    rmse = np.sqrt(np.mean((val_predictions - y_val)**2))\n",
    "    print(f' => RMSE = {rmse}\\n')\n",
    "    \n",
    "    # Store out-of-fold predictions\n",
    "    out_of_fold_predictions[val_index] = val_predictions\n",
    "    \n",
    "    # Make predictions on test set\n",
    "    fold_test_predictions = model.predict([X_test_cats, X_test_nums], verbose=1, batch_size=512).flatten()\n",
    "    test_predictions += fold_test_predictions\n",
    "\n",
    "# Average test predictions across all folds\n",
    "test_predictions /= NUM_FOLDS"
   ]
  },
  {
   "cell_type": "code",
   "execution_count": 16,
   "metadata": {},
   "outputs": [
    {
     "name": "stdout",
     "output_type": "stream",
     "text": [
      "Overall CV RSME = 72813.14258540729\n"
     ]
    }
   ],
   "source": [
    "# COMPUTE AND DISPLAY CV RSME SCORE\n",
    "rsme = np.sqrt(np.mean( (out_of_fold_predictions-train.price.values)**2 ))\n",
    "print(\"Overall CV RSME =\",rsme)\n",
    "\n",
    "# SAVE OOF \n",
    "oof_df = train[[\"id\"]].copy()\n",
    "oof_df[\"pred\"] = out_of_fold_predictions\n",
    "oof_df.to_csv(f\"predictions/oof_v{VERSION}.csv\",index=False)"
   ]
  },
  {
   "cell_type": "code",
   "execution_count": 17,
   "metadata": {},
   "outputs": [
    {
     "name": "stdout",
     "output_type": "stream",
     "text": [
      "Submission shape: (125690, 2)\n"
     ]
    },
    {
     "data": {
      "text/html": [
       "<div>\n",
       "<style scoped>\n",
       "    .dataframe tbody tr th:only-of-type {\n",
       "        vertical-align: middle;\n",
       "    }\n",
       "\n",
       "    .dataframe tbody tr th {\n",
       "        vertical-align: top;\n",
       "    }\n",
       "\n",
       "    .dataframe thead th {\n",
       "        text-align: right;\n",
       "    }\n",
       "</style>\n",
       "<table border=\"1\" class=\"dataframe\">\n",
       "  <thead>\n",
       "    <tr style=\"text-align: right;\">\n",
       "      <th></th>\n",
       "      <th>id</th>\n",
       "      <th>price</th>\n",
       "    </tr>\n",
       "  </thead>\n",
       "  <tbody>\n",
       "    <tr>\n",
       "      <th>0</th>\n",
       "      <td>188533</td>\n",
       "      <td>18624.366016</td>\n",
       "    </tr>\n",
       "    <tr>\n",
       "      <th>1</th>\n",
       "      <td>188534</td>\n",
       "      <td>70658.704687</td>\n",
       "    </tr>\n",
       "    <tr>\n",
       "      <th>2</th>\n",
       "      <td>188535</td>\n",
       "      <td>56964.875000</td>\n",
       "    </tr>\n",
       "    <tr>\n",
       "      <th>3</th>\n",
       "      <td>188536</td>\n",
       "      <td>27665.887109</td>\n",
       "    </tr>\n",
       "    <tr>\n",
       "      <th>4</th>\n",
       "      <td>188537</td>\n",
       "      <td>28802.161328</td>\n",
       "    </tr>\n",
       "  </tbody>\n",
       "</table>\n",
       "</div>"
      ],
      "text/plain": [
       "       id         price\n",
       "0  188533  18624.366016\n",
       "1  188534  70658.704687\n",
       "2  188535  56964.875000\n",
       "3  188536  27665.887109\n",
       "4  188537  28802.161328"
      ]
     },
     "execution_count": 17,
     "metadata": {},
     "output_type": "execute_result"
    }
   ],
   "source": [
    "sub = pd.read_csv(\"data/sample_submission.csv\")\n",
    "sub.price = test_predictions\n",
    "print(\"Submission shape:\",sub.shape)\n",
    "sub.to_csv(f\"predictions/submission_v{VERSION}.csv\",index=False)\n",
    "sub.head()"
   ]
  }
 ],
 "metadata": {
  "kernelspec": {
   "display_name": "venv",
   "language": "python",
   "name": "python3"
  },
  "language_info": {
   "codemirror_mode": {
    "name": "ipython",
    "version": 3
   },
   "file_extension": ".py",
   "mimetype": "text/x-python",
   "name": "python",
   "nbconvert_exporter": "python",
   "pygments_lexer": "ipython3",
   "version": "3.10.13"
  }
 },
 "nbformat": 4,
 "nbformat_minor": 2
}
