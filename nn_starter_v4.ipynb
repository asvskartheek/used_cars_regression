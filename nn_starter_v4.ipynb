{
 "cells": [
  {
   "cell_type": "code",
   "execution_count": 1,
   "metadata": {},
   "outputs": [],
   "source": [
    "VERSION = 8"
   ]
  },
  {
   "cell_type": "code",
   "execution_count": 2,
   "metadata": {},
   "outputs": [
    {
     "name": "stdout",
     "output_type": "stream",
     "text": [
      "Train shape: (188533, 13)\n"
     ]
    },
    {
     "data": {
      "text/html": [
       "<div>\n",
       "<style scoped>\n",
       "    .dataframe tbody tr th:only-of-type {\n",
       "        vertical-align: middle;\n",
       "    }\n",
       "\n",
       "    .dataframe tbody tr th {\n",
       "        vertical-align: top;\n",
       "    }\n",
       "\n",
       "    .dataframe thead th {\n",
       "        text-align: right;\n",
       "    }\n",
       "</style>\n",
       "<table border=\"1\" class=\"dataframe\">\n",
       "  <thead>\n",
       "    <tr style=\"text-align: right;\">\n",
       "      <th></th>\n",
       "      <th>id</th>\n",
       "      <th>brand</th>\n",
       "      <th>model</th>\n",
       "      <th>model_year</th>\n",
       "      <th>milage</th>\n",
       "      <th>fuel_type</th>\n",
       "      <th>engine</th>\n",
       "      <th>transmission</th>\n",
       "      <th>ext_col</th>\n",
       "      <th>int_col</th>\n",
       "      <th>accident</th>\n",
       "      <th>clean_title</th>\n",
       "      <th>price</th>\n",
       "    </tr>\n",
       "  </thead>\n",
       "  <tbody>\n",
       "    <tr>\n",
       "      <th>0</th>\n",
       "      <td>0</td>\n",
       "      <td>MINI</td>\n",
       "      <td>Cooper S Base</td>\n",
       "      <td>2007</td>\n",
       "      <td>213000</td>\n",
       "      <td>Gasoline</td>\n",
       "      <td>172.0HP 1.6L 4 Cylinder Engine Gasoline Fuel</td>\n",
       "      <td>A/T</td>\n",
       "      <td>Yellow</td>\n",
       "      <td>Gray</td>\n",
       "      <td>None reported</td>\n",
       "      <td>Yes</td>\n",
       "      <td>4200</td>\n",
       "    </tr>\n",
       "  </tbody>\n",
       "</table>\n",
       "</div>"
      ],
      "text/plain": [
       "   id brand          model  model_year  milage fuel_type  \\\n",
       "0   0  MINI  Cooper S Base        2007  213000  Gasoline   \n",
       "\n",
       "                                         engine transmission ext_col int_col  \\\n",
       "0  172.0HP 1.6L 4 Cylinder Engine Gasoline Fuel          A/T  Yellow    Gray   \n",
       "\n",
       "        accident clean_title  price  \n",
       "0  None reported         Yes   4200  "
      ]
     },
     "metadata": {},
     "output_type": "display_data"
    },
    {
     "name": "stdout",
     "output_type": "stream",
     "text": [
      "Test shape: (125690, 13)\n"
     ]
    },
    {
     "data": {
      "text/html": [
       "<div>\n",
       "<style scoped>\n",
       "    .dataframe tbody tr th:only-of-type {\n",
       "        vertical-align: middle;\n",
       "    }\n",
       "\n",
       "    .dataframe tbody tr th {\n",
       "        vertical-align: top;\n",
       "    }\n",
       "\n",
       "    .dataframe thead th {\n",
       "        text-align: right;\n",
       "    }\n",
       "</style>\n",
       "<table border=\"1\" class=\"dataframe\">\n",
       "  <thead>\n",
       "    <tr style=\"text-align: right;\">\n",
       "      <th></th>\n",
       "      <th>id</th>\n",
       "      <th>brand</th>\n",
       "      <th>model</th>\n",
       "      <th>model_year</th>\n",
       "      <th>milage</th>\n",
       "      <th>fuel_type</th>\n",
       "      <th>engine</th>\n",
       "      <th>transmission</th>\n",
       "      <th>ext_col</th>\n",
       "      <th>int_col</th>\n",
       "      <th>accident</th>\n",
       "      <th>clean_title</th>\n",
       "      <th>price</th>\n",
       "    </tr>\n",
       "  </thead>\n",
       "  <tbody>\n",
       "    <tr>\n",
       "      <th>0</th>\n",
       "      <td>188533</td>\n",
       "      <td>Land</td>\n",
       "      <td>Rover LR2 Base</td>\n",
       "      <td>2015</td>\n",
       "      <td>98000</td>\n",
       "      <td>Gasoline</td>\n",
       "      <td>240.0HP 2.0L 4 Cylinder Engine Gasoline Fuel</td>\n",
       "      <td>6-Speed A/T</td>\n",
       "      <td>White</td>\n",
       "      <td>Beige</td>\n",
       "      <td>None reported</td>\n",
       "      <td>Yes</td>\n",
       "      <td>0</td>\n",
       "    </tr>\n",
       "  </tbody>\n",
       "</table>\n",
       "</div>"
      ],
      "text/plain": [
       "       id brand           model  model_year  milage fuel_type  \\\n",
       "0  188533  Land  Rover LR2 Base        2015   98000  Gasoline   \n",
       "\n",
       "                                         engine transmission ext_col int_col  \\\n",
       "0  240.0HP 2.0L 4 Cylinder Engine Gasoline Fuel  6-Speed A/T   White   Beige   \n",
       "\n",
       "        accident clean_title  price  \n",
       "0  None reported         Yes      0  "
      ]
     },
     "metadata": {},
     "output_type": "display_data"
    },
    {
     "name": "stdout",
     "output_type": "stream",
     "text": [
      "Combined shape: (314223, 13)\n"
     ]
    }
   ],
   "source": [
    "import pandas as pd, numpy as np\n",
    "import matplotlib.pyplot as plt\n",
    "\n",
    "train = pd.read_csv(\"data/train.csv\") \n",
    "print(\"Train shape:\", train.shape )\n",
    "TRAIN_LN = len(train)\n",
    "display( train.head(1) )\n",
    "\n",
    "test = pd.read_csv(\"data/test.csv\") \n",
    "test['price'] = 0 # Doing this for common pre-processing steps.\n",
    "print(\"Test shape:\", test.shape )\n",
    "display( test.head(1) )\n",
    "\n",
    "train = pd.concat([train,test],axis=0,ignore_index=True)\n",
    "print(\"Combined shape:\", train.shape )"
   ]
  },
  {
   "cell_type": "code",
   "execution_count": 3,
   "metadata": {},
   "outputs": [
    {
     "name": "stdout",
     "output_type": "stream",
     "text": [
      "Categorical features: ['brand', 'model', 'model_year', 'fuel_type', 'engine', 'transmission', 'ext_col', 'int_col', 'accident', 'clean_title']\n",
      "Numerical features: ['milage']\n"
     ]
    }
   ],
   "source": [
    "CATS = [c for c in train.columns if not c in [\"id\",\"price\"] ]\n",
    "NUMS = ['milage']\n",
    "CATS = [c for c in CATS if not c in NUMS]\n",
    "print(\"Categorical features:\", CATS )\n",
    "print(\"Numerical features:\", NUMS)"
   ]
  },
  {
   "cell_type": "code",
   "execution_count": 4,
   "metadata": {},
   "outputs": [
    {
     "name": "stdout",
     "output_type": "stream",
     "text": [
      "STANDARDIZING NUMERICAL FEATURES\n",
      "milage, new_mean=-0.00, new_std=1.00\n"
     ]
    }
   ],
   "source": [
    "print(\"STANDARDIZING NUMERICAL FEATURES\")\n",
    "for c in NUMS:\n",
    "    m = train[c].mean()\n",
    "    s = train[c].std()\n",
    "    train[c] = (train[c]-m)/s\n",
    "    train[c] = train[c].fillna(m)\n",
    "    print(f\"{c}, new_mean={train[c].mean():.2f}, new_std={train[c].std():.2f}\")"
   ]
  },
  {
   "cell_type": "code",
   "execution_count": 5,
   "metadata": {},
   "outputs": [
    {
     "name": "stdout",
     "output_type": "stream",
     "text": [
      "Label Encoding Categorical Features:\n",
      "brand: unique=57, min_freq=0, max_freq=56, rare_count=8\n",
      "model: unique=1898, min_freq=0, max_freq=1897, rare_count=551\n",
      "model_year: unique=36, min_freq=0, max_freq=35, rare_count=4\n",
      "fuel_type: unique=8, min_freq=0, max_freq=7, rare_count=1\n",
      "engine: unique=1118, min_freq=0, max_freq=1117, rare_count=308\n",
      "transmission: unique=52, min_freq=0, max_freq=51, rare_count=8\n",
      "ext_col: unique=319, min_freq=0, max_freq=318, rare_count=99\n",
      "int_col: unique=156, min_freq=0, max_freq=155, rare_count=48\n",
      "accident: unique=3, min_freq=0, max_freq=2, rare_count=0\n",
      "clean_title: unique=2, min_freq=0, max_freq=1, rare_count=0\n"
     ]
    }
   ],
   "source": [
    "cat_feature_sizes = []\n",
    "cat_embedding_sizes = []\n",
    "rare_cat_lists = []\n",
    "MIN_CATEGORY_COUNT = 40\n",
    "\n",
    "print(\"Label Encoding Categorical Features:\")\n",
    "for cat_feature in CATS:\n",
    "    train[cat_feature], _ = train[cat_feature].factorize()\n",
    "    train[cat_feature] -= train[cat_feature].min() # We are doing this to ensure that the encoded values start from 0, ensuring a consistent range for all categorical features.\n",
    "    value_counts = train[cat_feature].value_counts().to_dict()\n",
    "    \n",
    "    # Identify rare categories\n",
    "    rare_cat_lists.append([\n",
    "        value\n",
    "        for value, count in value_counts.items()\n",
    "        if count < MIN_CATEGORY_COUNT\n",
    "    ])\n",
    "    unique_count = train[cat_feature].nunique()\n",
    "    min_freq = train[cat_feature].min()\n",
    "    max_freq = train[cat_feature].max()\n",
    "    rare_count = len(rare_cat_lists[-1])\n",
    "    print(f'{cat_feature}: unique={unique_count}, min_freq={min_freq}, max_freq={max_freq}, rare_count={rare_count}')\n",
    "    \n",
    "    # Adjust category encoding\n",
    "    cat_feature_sizes.append(max_freq + 2)  # +2 for rare category (0) and zero-indexing (1 to max_freq+1). This ensures we have enough space for all categories, including the rare ones grouped together.\n",
    "    cat_embedding_sizes.append(int(np.ceil(np.sqrt(max_freq + 2)))) # TODO: Find a reference for this formula. Got this snippet from https://www.kaggle.com/code/cdeotte/nn-starter-lb-72300-cv-72800\n",
    "    train[cat_feature] += 1\n",
    "    train.loc[train[cat_feature].isin(rare_cat_lists[-1]), cat_feature] = 0 # rare_cat_lists[-1] gives the list of rare categories for the current feature"
   ]
  },
  {
   "cell_type": "code",
   "execution_count": 6,
   "metadata": {},
   "outputs": [
    {
     "data": {
      "text/plain": [
       "((188533, 13), (125690, 13))"
      ]
     },
     "execution_count": 6,
     "metadata": {},
     "output_type": "execute_result"
    }
   ],
   "source": [
    "test = train.iloc[TRAIN_LN:]\n",
    "train = train.iloc[:TRAIN_LN]\n",
    "train.shape, test.shape"
   ]
  },
  {
   "cell_type": "code",
   "execution_count": 7,
   "metadata": {},
   "outputs": [
    {
     "name": "stdout",
     "output_type": "stream",
     "text": [
      "brand: Test has label encodes = [] which are not in train.\n",
      "model: Test has label encodes = [1898] which are not in train.\n",
      " => 1 rows\n",
      "model_year: Test has label encodes = [36] which are not in train.\n",
      " => 1 rows\n",
      "fuel_type: Test has label encodes = [] which are not in train.\n",
      "engine: Test has label encodes = [1118] which are not in train.\n",
      " => 4 rows\n",
      "transmission: Test has label encodes = [] which are not in train.\n",
      "ext_col: Test has label encodes = [] which are not in train.\n",
      "int_col: Test has label encodes = [] which are not in train.\n",
      "accident: Test has label encodes = [] which are not in train.\n",
      "clean_title: Test has label encodes = [] which are not in train.\n"
     ]
    }
   ],
   "source": [
    "for feature in CATS:\n",
    "    train_categories = train[feature].unique()\n",
    "    test_categories = test[feature].unique()\n",
    "    unseen_categories = np.setdiff1d(test_categories, train_categories)\n",
    "    print(f\"{feature}: Test has label encodes = {unseen_categories} which are not in train.\")\n",
    "    if len(unseen_categories) > 0:\n",
    "        unseen_rows_count = len(test.loc[test[feature].isin(unseen_categories)])\n",
    "        print(f\" => {unseen_rows_count} rows\")\n",
    "    \n",
    "    test.loc[test[feature].isin(unseen_categories), feature] = 0"
   ]
  },
  {
   "cell_type": "code",
   "execution_count": 8,
   "metadata": {},
   "outputs": [
    {
     "name": "stdout",
     "output_type": "stream",
     "text": [
      "Normalized price statistics:\n",
      "Train - Mean: -0.0000, Std: 1.0000\n",
      "Test  - Mean: -12.1916, Std: 0.0000\n"
     ]
    }
   ],
   "source": [
    "# Apply log transformation to price\n",
    "train['log_price'] = np.log1p(train['price'])\n",
    "test['log_price'] = np.log1p(test['price'])\n",
    "\n",
    "# Standardize the log-transformed price\n",
    "price_mean = train['log_price'].mean()\n",
    "price_std = train['log_price'].std()\n",
    "\n",
    "train['norm_price'] = (train['log_price'] - price_mean) / price_std\n",
    "test['norm_price'] = (test['log_price'] - price_mean) / price_std\n",
    "\n",
    "print(\"Normalized price statistics:\")\n",
    "print(f\"Train - Mean: {train['norm_price'].mean():.4f}, Std: {train['norm_price'].std():.4f}\")\n",
    "print(f\"Test  - Mean: {test['norm_price'].mean():.4f}, Std: {test['norm_price'].std():.4f}\")\n",
    "\n",
    "# Update the target variable\n",
    "target = 'norm_price'\n"
   ]
  },
  {
   "cell_type": "code",
   "execution_count": 9,
   "metadata": {},
   "outputs": [
    {
     "name": "stdout",
     "output_type": "stream",
     "text": [
      "TF Version 2.16.1\n"
     ]
    }
   ],
   "source": [
    "from sklearn.model_selection import KFold\n",
    "import tensorflow as tf\n",
    "from tensorflow.keras.models import Model\n",
    "from tensorflow.keras.layers import Dense, Dropout, Input, Embedding\n",
    "from tensorflow.keras.layers import Concatenate, Multiply\n",
    "import tensorflow.keras.backend as K\n",
    "\n",
    "print('TF Version',tf.__version__)"
   ]
  },
  {
   "cell_type": "code",
   "execution_count": 15,
   "metadata": {},
   "outputs": [
    {
     "name": "stdout",
     "output_type": "stream",
     "text": [
      "Learning rate schedule: 0.001 to 0.001 to 1e-05\n"
     ]
    },
    {
     "data": {
      "image/png": "[encoded data removed]",
      "text/plain": [
       "<Figure size 1000x400 with 1 Axes>"
      ]
     },
     "metadata": {},
     "output_type": "display_data"
    }
   ],
   "source": [
    "EPOCHS = 50\n",
    "LRS = [0.001]*10 + [0.0001]*10 + [0.00001]*30  # Extended schedule for 50 epochs\n",
    "\n",
    "def lrfn(epoch):\n",
    "    return LRS[epoch]\n",
    "\n",
    "rng = [i for i in range(EPOCHS)]\n",
    "lr_y = [lrfn(x) for x in rng]\n",
    "plt.figure(figsize=(10, 4))\n",
    "plt.plot(rng, lr_y, '-o')\n",
    "print(\"Learning rate schedule: {:.3g} to {:.3g} to {:.3g}\". \\\n",
    "        format(lr_y[0], max(lr_y), lr_y[-1]))\n",
    "plt.xlabel(\"Epoch\")\n",
    "plt.ylabel(\"Learning Rate\")\n",
    "plt.title(\"Learning Rate Schedule\")\n",
    "plt.show()\n",
    "\n",
    "lr_callback = tf.keras.callbacks.LearningRateScheduler(lrfn, verbose = True)"
   ]
  },
  {
   "cell_type": "code",
   "execution_count": 16,
   "metadata": {},
   "outputs": [],
   "source": [
    "def build_model():\n",
    "    DROPOUT_RATE = 0.3\n",
    "\n",
    "    # CATEGORICAL FEATURES\n",
    "    x_input_cats = Input(shape=(len(CATS),))\n",
    "    embs = []\n",
    "    for j in range(len(CATS)):\n",
    "        e = tf.keras.layers.Embedding(cat_feature_sizes[j],cat_embedding_sizes[j])\n",
    "        x = e(x_input_cats[:,j])\n",
    "        x = tf.keras.layers.Flatten()(x)\n",
    "        embs.append(x)\n",
    "        \n",
    "    # NUMERICAL FEATURES\n",
    "    x_input_nums = Input(shape=(len(NUMS),))\n",
    "    \n",
    "    # COMBINE\n",
    "    x = tf.keras.layers.Concatenate(axis=-1)(embs+[x_input_nums]) \n",
    "    x = Dense(512, activation='relu')(x)\n",
    "    x = Dropout(DROPOUT_RATE)(x)\n",
    "    x = Dense(256, activation='relu')(x)\n",
    "    x = Dropout(DROPOUT_RATE)(x)\n",
    "    x = Dense(128, activation='relu')(x)\n",
    "    x = Dense(1, activation='linear')(x)\n",
    "    \n",
    "    model = Model(inputs=[x_input_cats,x_input_nums], outputs=x)\n",
    "    \n",
    "    return model"
   ]
  },
  {
   "cell_type": "code",
   "execution_count": 22,
   "metadata": {},
   "outputs": [
    {
     "name": "stdout",
     "output_type": "stream",
     "text": [
      "#########################\n",
      "### Fold 1 ###\n",
      "#########################\n",
      "Epoch 1/50\n",
      "2357/2357 - 8s - 3ms/step - loss: 0.3689 - original_price_rmse: 63130.7383 - root_mean_squared_error: 0.6074 - val_loss: 0.3506 - val_original_price_rmse: 60087.5938 - val_root_mean_squared_error: 0.5921 - learning_rate: 0.0010\n",
      "Epoch 2/50\n",
      "2357/2357 - 6s - 3ms/step - loss: 0.3484 - original_price_rmse: 63028.6211 - root_mean_squared_error: 0.5902 - val_loss: 0.3487 - val_original_price_rmse: 60642.0078 - val_root_mean_squared_error: 0.5905 - learning_rate: 0.0010\n",
      "Epoch 3/50\n",
      "\n",
      "Epoch 3: ReduceLROnPlateau reducing learning rate to 0.00010000000474974513.\n",
      "2357/2357 - 6s - 3ms/step - loss: 0.3412 - original_price_rmse: 63545.6445 - root_mean_squared_error: 0.5842 - val_loss: 0.3475 - val_original_price_rmse: 61550.5977 - val_root_mean_squared_error: 0.5895 - learning_rate: 0.0010\n",
      "Epoch 4/50\n",
      "2357/2357 - 6s - 3ms/step - loss: 0.3216 - original_price_rmse: 63400.9336 - root_mean_squared_error: 0.5671 - val_loss: 0.3464 - val_original_price_rmse: 61956.3242 - val_root_mean_squared_error: 0.5886 - learning_rate: 1.0000e-04\n",
      "Epoch 5/50\n",
      "\n",
      "Epoch 5: ReduceLROnPlateau reducing learning rate to 1.0000000474974514e-05.\n",
      "2357/2357 - 6s - 3ms/step - loss: 0.3162 - original_price_rmse: 63501.0469 - root_mean_squared_error: 0.5623 - val_loss: 0.3462 - val_original_price_rmse: 61155.2422 - val_root_mean_squared_error: 0.5884 - learning_rate: 1.0000e-04\n",
      "Epoch 6/50\n",
      "2357/2357 - 6s - 3ms/step - loss: 0.3117 - original_price_rmse: 63591.1953 - root_mean_squared_error: 0.5583 - val_loss: 0.3461 - val_original_price_rmse: 61066.2422 - val_root_mean_squared_error: 0.5883 - learning_rate: 1.0000e-05\n",
      "\u001b[1m74/74\u001b[0m \u001b[32m━━━━━━━━━━━━━━━━━━━━\u001b[0m\u001b[37m\u001b[0m \u001b[1m0s\u001b[0m 4ms/step\n",
      " => Original Price RMSE = 69294.67911204166\n",
      "\n",
      "\u001b[1m246/246\u001b[0m \u001b[32m━━━━━━━━━━━━━━━━━━━━\u001b[0m\u001b[37m\u001b[0m \u001b[1m0s\u001b[0m 2ms/step\n",
      "#########################\n",
      "### Fold 2 ###\n",
      "#########################\n",
      "Epoch 1/50\n",
      "2357/2357 - 8s - 3ms/step - loss: 0.3704 - original_price_rmse: 62952.6133 - root_mean_squared_error: 0.6086 - val_loss: 0.3459 - val_original_price_rmse: 61530.8320 - val_root_mean_squared_error: 0.5881 - learning_rate: 0.0010\n",
      "Epoch 2/50\n",
      "2357/2357 - 8s - 3ms/step - loss: 0.3487 - original_price_rmse: 63167.9648 - root_mean_squared_error: 0.5905 - val_loss: 0.3456 - val_original_price_rmse: 61446.9141 - val_root_mean_squared_error: 0.5879 - learning_rate: 0.0010\n",
      "Epoch 3/50\n",
      "2357/2357 - 7s - 3ms/step - loss: 0.3413 - original_price_rmse: 63314.0430 - root_mean_squared_error: 0.5842 - val_loss: 0.3470 - val_original_price_rmse: 60277.6484 - val_root_mean_squared_error: 0.5891 - learning_rate: 0.0010\n",
      "Epoch 4/50\n",
      "2357/2357 - 7s - 3ms/step - loss: 0.3367 - original_price_rmse: 63504.3945 - root_mean_squared_error: 0.5803 - val_loss: 0.3497 - val_original_price_rmse: 62842.7109 - val_root_mean_squared_error: 0.5913 - learning_rate: 0.0010\n",
      "Epoch 5/50\n",
      "\n",
      "Epoch 5: ReduceLROnPlateau reducing learning rate to 0.00010000000474974513.\n",
      "2357/2357 - 7s - 3ms/step - loss: 0.3308 - original_price_rmse: 63513.0234 - root_mean_squared_error: 0.5751 - val_loss: 0.3419 - val_original_price_rmse: 61208.6523 - val_root_mean_squared_error: 0.5847 - learning_rate: 0.0010\n",
      "Epoch 6/50\n",
      "2357/2357 - 7s - 3ms/step - loss: 0.3113 - original_price_rmse: 63600.4688 - root_mean_squared_error: 0.5579 - val_loss: 0.3429 - val_original_price_rmse: 61514.7656 - val_root_mean_squared_error: 0.5856 - learning_rate: 1.0000e-04\n",
      "Epoch 7/50\n",
      "\n",
      "Epoch 7: ReduceLROnPlateau reducing learning rate to 1.0000000474974514e-05.\n",
      "2357/2357 - 7s - 3ms/step - loss: 0.3063 - original_price_rmse: 63687.2773 - root_mean_squared_error: 0.5535 - val_loss: 0.3445 - val_original_price_rmse: 61445.5391 - val_root_mean_squared_error: 0.5870 - learning_rate: 1.0000e-04\n",
      "Epoch 8/50\n",
      "2357/2357 - 7s - 3ms/step - loss: 0.3020 - original_price_rmse: 63797.4492 - root_mean_squared_error: 0.5495 - val_loss: 0.3440 - val_original_price_rmse: 61559.8242 - val_root_mean_squared_error: 0.5865 - learning_rate: 1.0000e-05\n",
      "\u001b[1m74/74\u001b[0m \u001b[32m━━━━━━━━━━━━━━━━━━━━\u001b[0m\u001b[37m\u001b[0m \u001b[1m0s\u001b[0m 3ms/step\n",
      " => Original Price RMSE = 69892.81452923782\n",
      "\n",
      "\u001b[1m246/246\u001b[0m \u001b[32m━━━━━━━━━━━━━━━━━━━━\u001b[0m\u001b[37m\u001b[0m \u001b[1m0s\u001b[0m 2ms/step\n",
      "#########################\n",
      "### Fold 3 ###\n",
      "#########################\n",
      "Epoch 1/50\n",
      "2357/2357 - 8s - 3ms/step - loss: 0.3693 - original_price_rmse: 62679.2148 - root_mean_squared_error: 0.6077 - val_loss: 0.3472 - val_original_price_rmse: 61961.0312 - val_root_mean_squared_error: 0.5892 - learning_rate: 0.0010\n",
      "Epoch 2/50\n",
      "2357/2357 - 6s - 3ms/step - loss: 0.3485 - original_price_rmse: 63011.0430 - root_mean_squared_error: 0.5903 - val_loss: 0.3456 - val_original_price_rmse: 62869.7617 - val_root_mean_squared_error: 0.5879 - learning_rate: 0.0010\n",
      "Epoch 3/50\n",
      "\n",
      "Epoch 3: ReduceLROnPlateau reducing learning rate to 0.00010000000474974513.\n",
      "2357/2357 - 6s - 3ms/step - loss: 0.3407 - original_price_rmse: 62952.4727 - root_mean_squared_error: 0.5837 - val_loss: 0.3450 - val_original_price_rmse: 62725.5586 - val_root_mean_squared_error: 0.5874 - learning_rate: 0.0010\n",
      "Epoch 4/50\n",
      "2357/2357 - 6s - 3ms/step - loss: 0.3217 - original_price_rmse: 63128.0430 - root_mean_squared_error: 0.5672 - val_loss: 0.3415 - val_original_price_rmse: 62487.8438 - val_root_mean_squared_error: 0.5844 - learning_rate: 1.0000e-04\n",
      "Epoch 5/50\n",
      "\n",
      "Epoch 5: ReduceLROnPlateau reducing learning rate to 1.0000000474974514e-05.\n",
      "2357/2357 - 6s - 3ms/step - loss: 0.3173 - original_price_rmse: 63197.4492 - root_mean_squared_error: 0.5633 - val_loss: 0.3430 - val_original_price_rmse: 61970.6836 - val_root_mean_squared_error: 0.5857 - learning_rate: 1.0000e-04\n",
      "Epoch 6/50\n",
      "2357/2357 - 6s - 3ms/step - loss: 0.3124 - original_price_rmse: 63300.5469 - root_mean_squared_error: 0.5589 - val_loss: 0.3419 - val_original_price_rmse: 62422.7812 - val_root_mean_squared_error: 0.5847 - learning_rate: 1.0000e-05\n",
      "\u001b[1m74/74\u001b[0m \u001b[32m━━━━━━━━━━━━━━━━━━━━\u001b[0m\u001b[37m\u001b[0m \u001b[1m0s\u001b[0m 3ms/step\n",
      " => Original Price RMSE = 74723.25734881916\n",
      "\n",
      "\u001b[1m246/246\u001b[0m \u001b[32m━━━━━━━━━━━━━━━━━━━━\u001b[0m\u001b[37m\u001b[0m \u001b[1m0s\u001b[0m 2ms/step\n",
      "#########################\n",
      "### Fold 4 ###\n",
      "#########################\n",
      "Epoch 1/50\n",
      "2357/2357 - 8s - 3ms/step - loss: 0.3700 - original_price_rmse: 62439.0039 - root_mean_squared_error: 0.6082 - val_loss: 0.3459 - val_original_price_rmse: 64926.2930 - val_root_mean_squared_error: 0.5881 - learning_rate: 0.0010\n",
      "Epoch 2/50\n",
      "2357/2357 - 7s - 3ms/step - loss: 0.3482 - original_price_rmse: 62718.8750 - root_mean_squared_error: 0.5901 - val_loss: 0.3434 - val_original_price_rmse: 64255.2188 - val_root_mean_squared_error: 0.5860 - learning_rate: 0.0010\n",
      "Epoch 3/50\n",
      "2357/2357 - 7s - 3ms/step - loss: 0.3410 - original_price_rmse: 62719.0156 - root_mean_squared_error: 0.5840 - val_loss: 0.3473 - val_original_price_rmse: 63288.9570 - val_root_mean_squared_error: 0.5893 - learning_rate: 0.0010\n",
      "Epoch 4/50\n",
      "2357/2357 - 7s - 3ms/step - loss: 0.3349 - original_price_rmse: 62760.2617 - root_mean_squared_error: 0.5787 - val_loss: 0.3431 - val_original_price_rmse: 64594.1953 - val_root_mean_squared_error: 0.5857 - learning_rate: 0.0010\n",
      "Epoch 5/50\n",
      "\n",
      "Epoch 5: ReduceLROnPlateau reducing learning rate to 0.00010000000474974513.\n",
      "2357/2357 - 7s - 3ms/step - loss: 0.3298 - original_price_rmse: 62977.7773 - root_mean_squared_error: 0.5743 - val_loss: 0.3440 - val_original_price_rmse: 63768.3672 - val_root_mean_squared_error: 0.5865 - learning_rate: 0.0010\n",
      "Epoch 6/50\n",
      "2357/2357 - 6s - 2ms/step - loss: 0.3106 - original_price_rmse: 63116.1523 - root_mean_squared_error: 0.5573 - val_loss: 0.3437 - val_original_price_rmse: 64230.3398 - val_root_mean_squared_error: 0.5863 - learning_rate: 1.0000e-04\n",
      "Epoch 7/50\n",
      "\n",
      "Epoch 7: ReduceLROnPlateau reducing learning rate to 1.0000000474974514e-05.\n",
      "2357/2357 - 6s - 3ms/step - loss: 0.3059 - original_price_rmse: 63038.6133 - root_mean_squared_error: 0.5531 - val_loss: 0.3450 - val_original_price_rmse: 64615.7305 - val_root_mean_squared_error: 0.5874 - learning_rate: 1.0000e-04\n",
      "Epoch 8/50\n",
      "2357/2357 - 6s - 2ms/step - loss: 0.3018 - original_price_rmse: 63335.4453 - root_mean_squared_error: 0.5493 - val_loss: 0.3448 - val_original_price_rmse: 64350.1484 - val_root_mean_squared_error: 0.5872 - learning_rate: 1.0000e-05\n",
      "\u001b[1m74/74\u001b[0m \u001b[32m━━━━━━━━━━━━━━━━━━━━\u001b[0m\u001b[37m\u001b[0m \u001b[1m0s\u001b[0m 2ms/step\n",
      " => Original Price RMSE = 77509.94354852661\n",
      "\n",
      "\u001b[1m246/246\u001b[0m \u001b[32m━━━━━━━━━━━━━━━━━━━━\u001b[0m\u001b[37m\u001b[0m \u001b[1m0s\u001b[0m 1ms/step\n",
      "#########################\n",
      "### Fold 5 ###\n",
      "#########################\n",
      "Epoch 1/50\n",
      "2357/2357 - 7s - 3ms/step - loss: 0.3698 - original_price_rmse: 62002.0781 - root_mean_squared_error: 0.6081 - val_loss: 0.3460 - val_original_price_rmse: 63641.6016 - val_root_mean_squared_error: 0.5882 - learning_rate: 0.0010\n",
      "Epoch 2/50\n",
      "2357/2357 - 6s - 3ms/step - loss: 0.3495 - original_price_rmse: 62603.5391 - root_mean_squared_error: 0.5912 - val_loss: 0.3471 - val_original_price_rmse: 63462.7656 - val_root_mean_squared_error: 0.5892 - learning_rate: 0.0010\n",
      "Epoch 3/50\n",
      "2357/2357 - 6s - 3ms/step - loss: 0.3425 - original_price_rmse: 62734.9219 - root_mean_squared_error: 0.5853 - val_loss: 0.3451 - val_original_price_rmse: 64327.7227 - val_root_mean_squared_error: 0.5874 - learning_rate: 0.0010\n",
      "Epoch 4/50\n",
      "\n",
      "Epoch 4: ReduceLROnPlateau reducing learning rate to 0.00010000000474974513.\n",
      "2357/2357 - 6s - 2ms/step - loss: 0.3365 - original_price_rmse: 62599.7383 - root_mean_squared_error: 0.5801 - val_loss: 0.3454 - val_original_price_rmse: 63952.3867 - val_root_mean_squared_error: 0.5877 - learning_rate: 0.0010\n",
      "Epoch 5/50\n",
      "2357/2357 - 6s - 3ms/step - loss: 0.3178 - original_price_rmse: 62703.9531 - root_mean_squared_error: 0.5637 - val_loss: 0.3414 - val_original_price_rmse: 64129.8359 - val_root_mean_squared_error: 0.5843 - learning_rate: 1.0000e-04\n",
      "Epoch 6/50\n",
      "\n",
      "Epoch 6: ReduceLROnPlateau reducing learning rate to 1.0000000474974514e-05.\n",
      "2357/2357 - 6s - 2ms/step - loss: 0.3128 - original_price_rmse: 62842.0664 - root_mean_squared_error: 0.5593 - val_loss: 0.3422 - val_original_price_rmse: 64624.6289 - val_root_mean_squared_error: 0.5850 - learning_rate: 1.0000e-04\n",
      "Epoch 7/50\n",
      "2357/2357 - 6s - 3ms/step - loss: 0.3075 - original_price_rmse: 63153.8047 - root_mean_squared_error: 0.5546 - val_loss: 0.3417 - val_original_price_rmse: 64254.4531 - val_root_mean_squared_error: 0.5846 - learning_rate: 1.0000e-05\n",
      "\u001b[1m74/74\u001b[0m \u001b[32m━━━━━━━━━━━━━━━━━━━━\u001b[0m\u001b[37m\u001b[0m \u001b[1m0s\u001b[0m 3ms/step\n",
      " => Original Price RMSE = 77341.3802524388\n",
      "\n",
      "\u001b[1m246/246\u001b[0m \u001b[32m━━━━━━━━━━━━━━━━━━━━\u001b[0m\u001b[37m\u001b[0m \u001b[1m0s\u001b[0m 2ms/step\n"
     ]
    }
   ],
   "source": [
    "import os\n",
    "import numpy as np\n",
    "import tensorflow as tf\n",
    "\n",
    "NUM_FOLDS = 5\n",
    "RANDOM_STATE = 42\n",
    "MODEL_CHECKPOINT_DIR = f\"checkpoints/\"\n",
    "MODEL_CHECKPOINT_FILE = f\"NN_{VERSION}.weights.h5\"\n",
    "TENSORBOARD_LOG_DIR = f\"tensorboard_logs/version_{VERSION}\"\n",
    "\n",
    "kf = KFold(n_splits=NUM_FOLDS, random_state=RANDOM_STATE, shuffle=True)\n",
    "\n",
    "out_of_fold_predictions = np.zeros(len(train))\n",
    "test_predictions = np.zeros(len(test))\n",
    "\n",
    "# Create directory for model checkpoints\n",
    "if not os.path.exists(MODEL_CHECKPOINT_DIR):\n",
    "    os.makedirs(MODEL_CHECKPOINT_DIR)\n",
    "\n",
    "# Create directory for TensorBoard logs\n",
    "if not os.path.exists(TENSORBOARD_LOG_DIR):\n",
    "    os.makedirs(TENSORBOARD_LOG_DIR)\n",
    "\n",
    "# Implement inverse_normalize_price function using TensorFlow operations\n",
    "def inverse_normalize_price(normalized_price):\n",
    "    return tf.math.expm1(normalized_price * price_std + price_mean)\n",
    "\n",
    "# Custom RMSE metric for original price\n",
    "@tf.function\n",
    "def original_price_rmse(y_true, y_pred):\n",
    "    y_true_original = inverse_normalize_price(y_true)\n",
    "    y_pred_original = inverse_normalize_price(y_pred)\n",
    "    return tf.sqrt(tf.reduce_mean(tf.square(y_true_original - y_pred_original)))\n",
    "\n",
    "for fold, (train_index, val_index) in enumerate(kf.split(train), 1):\n",
    "    print(\"#\" * 25)\n",
    "    print(f\"### Fold {fold} ###\")\n",
    "    print(\"#\" * 25)\n",
    "\n",
    "    # Prepare data for current fold\n",
    "    X_train_cats = train.loc[train_index, CATS].values\n",
    "    X_train_nums = train.loc[train_index, NUMS].values\n",
    "    y_train = train.loc[train_index, \"norm_price\"].values\n",
    "    \n",
    "    X_val_cats = train.loc[val_index, CATS].values\n",
    "    X_val_nums = train.loc[val_index, NUMS].values\n",
    "    y_val = train.loc[val_index, \"norm_price\"].values\n",
    "    \n",
    "    X_test_cats = test[CATS].values\n",
    "    X_test_nums = test[NUMS].values\n",
    "    \n",
    "    # Train model\n",
    "    K.clear_session()\n",
    "    model = build_model()\n",
    "    model.compile(optimizer=tf.keras.optimizers.Adam(0.001), \n",
    "                  loss=\"mean_squared_error\", \n",
    "                  metrics=[tf.keras.metrics.RootMeanSquaredError(), original_price_rmse])\n",
    "    \n",
    "    # Create TensorBoard callback\n",
    "    tensorboard_callback = tf.keras.callbacks.TensorBoard(\n",
    "        log_dir=f\"{TENSORBOARD_LOG_DIR}/fold_{fold}\",\n",
    "        histogram_freq=1,\n",
    "        write_graph=True,\n",
    "        write_images=True,\n",
    "        update_freq='epoch',\n",
    "        profile_batch=0\n",
    "    )\n",
    "    \n",
    "    # Create Early Stopping callback\n",
    "    early_stopping = tf.keras.callbacks.EarlyStopping(\n",
    "        monitor='val_original_price_rmse',\n",
    "        patience=5,\n",
    "        mode='min',\n",
    "        restore_best_weights=True\n",
    "    )\n",
    "    \n",
    "    # Create ReduceLROnPlateau callback\n",
    "    reduce_lr = tf.keras.callbacks.ReduceLROnPlateau(\n",
    "        monitor='val_original_price_rmse',\n",
    "        factor=0.1,\n",
    "        patience=2,\n",
    "        min_lr=1e-6,\n",
    "        mode='min',\n",
    "        verbose=1\n",
    "    )\n",
    "    \n",
    "    model.fit([X_train_cats, X_train_nums], y_train, \n",
    "              validation_data=([X_val_cats, X_val_nums], y_val),\n",
    "              callbacks=[reduce_lr, tensorboard_callback, early_stopping],\n",
    "              batch_size=64, epochs=EPOCHS, verbose=2)\n",
    "    \n",
    "    # Save model weights\n",
    "    model.save_weights(f'{MODEL_CHECKPOINT_DIR}/{MODEL_CHECKPOINT_FILE}')\n",
    "    \n",
    "    # Make predictions on validation set\n",
    "    val_predictions = model.predict([X_val_cats, X_val_nums], verbose=1, batch_size=512).flatten()\n",
    "    val_predictions_original = inverse_normalize_price(val_predictions).numpy()\n",
    "    y_val_original = inverse_normalize_price(y_val).numpy()\n",
    "    rmse = np.sqrt(np.mean((val_predictions_original - y_val_original)**2))\n",
    "    print(f' => Original Price RMSE = {rmse}\\n')\n",
    "    \n",
    "    # Store out-of-fold predictions\n",
    "    out_of_fold_predictions[val_index] = val_predictions_original\n",
    "    \n",
    "    # Make predictions on test set\n",
    "    fold_test_predictions = model.predict([X_test_cats, X_test_nums], verbose=1, batch_size=512).flatten()\n",
    "    fold_test_predictions_original = inverse_normalize_price(fold_test_predictions).numpy()\n",
    "    test_predictions += fold_test_predictions_original\n",
    "\n",
    "# Average test predictions across all folds\n",
    "test_predictions /= NUM_FOLDS"
   ]
  },
  {
   "cell_type": "code",
   "execution_count": 23,
   "metadata": {},
   "outputs": [
    {
     "name": "stdout",
     "output_type": "stream",
     "text": [
      "Overall CV RSME = 73837.35494111072\n"
     ]
    }
   ],
   "source": [
    "# COMPUTE AND DISPLAY CV RSME SCORE\n",
    "rsme = np.sqrt(np.mean( (out_of_fold_predictions-train.price.values)**2 ))\n",
    "print(\"Overall CV RSME =\",rsme)\n",
    "\n",
    "# SAVE OOF \n",
    "oof_df = train[[\"id\"]].copy()\n",
    "oof_df[\"pred\"] = out_of_fold_predictions\n",
    "oof_df.to_csv(f\"predictions/oof_v{VERSION}.csv\",index=False)"
   ]
  },
  {
   "cell_type": "code",
   "execution_count": 24,
   "metadata": {},
   "outputs": [
    {
     "name": "stdout",
     "output_type": "stream",
     "text": [
      "Submission shape: (125690, 2)\n"
     ]
    },
    {
     "data": {
      "text/html": [
       "<div>\n",
       "<style scoped>\n",
       "    .dataframe tbody tr th:only-of-type {\n",
       "        vertical-align: middle;\n",
       "    }\n",
       "\n",
       "    .dataframe tbody tr th {\n",
       "        vertical-align: top;\n",
       "    }\n",
       "\n",
       "    .dataframe thead th {\n",
       "        text-align: right;\n",
       "    }\n",
       "</style>\n",
       "<table border=\"1\" class=\"dataframe\">\n",
       "  <thead>\n",
       "    <tr style=\"text-align: right;\">\n",
       "      <th></th>\n",
       "      <th>id</th>\n",
       "      <th>price</th>\n",
       "    </tr>\n",
       "  </thead>\n",
       "  <tbody>\n",
       "    <tr>\n",
       "      <th>0</th>\n",
       "      <td>188533</td>\n",
       "      <td>17075.755469</td>\n",
       "    </tr>\n",
       "    <tr>\n",
       "      <th>1</th>\n",
       "      <td>188534</td>\n",
       "      <td>60272.837500</td>\n",
       "    </tr>\n",
       "    <tr>\n",
       "      <th>2</th>\n",
       "      <td>188535</td>\n",
       "      <td>48256.589844</td>\n",
       "    </tr>\n",
       "    <tr>\n",
       "      <th>3</th>\n",
       "      <td>188536</td>\n",
       "      <td>25167.990625</td>\n",
       "    </tr>\n",
       "    <tr>\n",
       "      <th>4</th>\n",
       "      <td>188537</td>\n",
       "      <td>29578.787109</td>\n",
       "    </tr>\n",
       "  </tbody>\n",
       "</table>\n",
       "</div>"
      ],
      "text/plain": [
       "       id         price\n",
       "0  188533  17075.755469\n",
       "1  188534  60272.837500\n",
       "2  188535  48256.589844\n",
       "3  188536  25167.990625\n",
       "4  188537  29578.787109"
      ]
     },
     "execution_count": 24,
     "metadata": {},
     "output_type": "execute_result"
    }
   ],
   "source": [
    "sub = pd.read_csv(\"data/sample_submission.csv\")\n",
    "sub.price = test_predictions\n",
    "print(\"Submission shape:\",sub.shape)\n",
    "sub.to_csv(f\"predictions/submission_v{VERSION}.csv\",index=False)\n",
    "sub.head()"
   ]
  }
 ],
 "metadata": {
  "kernelspec": {
   "display_name": "venv",
   "language": "python",
   "name": "python3"
  },
  "language_info": {
   "codemirror_mode": {
    "name": "ipython",
    "version": 3
   },
   "file_extension": ".py",
   "mimetype": "text/x-python",
   "name": "python",
   "nbconvert_exporter": "python",
   "pygments_lexer": "ipython3",
   "version": "3.10.13"
  }
 },
 "nbformat": 4,
 "nbformat_minor": 2
}
